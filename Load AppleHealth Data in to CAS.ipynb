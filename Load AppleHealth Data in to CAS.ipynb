{
 "cells": [
  {
   "cell_type": "code",
   "execution_count": null,
   "metadata": {
    "collapsed": true
   },
   "outputs": [],
   "source": [
    "# Load Apple Health Data in to CAS for use with SAS Visusal Statistics"
   ]
  },
  {
   "cell_type": "code",
   "execution_count": 517,
   "metadata": {
    "collapsed": false
   },
   "outputs": [],
   "source": [
    "import xml.etree.ElementTree as et\n",
    "import pandas as pd\n",
    "import numpy as np\n",
    "from datetime import *\n",
    "import matplotlib.pyplot as plt\n",
    "import re \n",
    "%matplotlib inline\n",
    "plt.rcParams['figure.figsize'] = 16, 8"
   ]
  },
  {
   "cell_type": "markdown",
   "metadata": {},
   "source": [
    "# Load the tables into CAS using SAS SWAT \n",
    "You will need access to a SAS Viya cluster for this part of the program to work. The next cell establishes a connection to the cluster, and the subsequent cells are a combination of locally and remotely executed code. "
   ]
  },
  {
   "cell_type": "code",
   "execution_count": null,
   "metadata": {
    "collapsed": false
   },
   "outputs": [],
   "source": [
    "from swat import *\n",
    "cashost='localhost'\n",
    "casport=5570\n",
    "casauth='~/.authinfo'\n",
    "sess = CAS(cashost, casport, authinfo=casauth, caslib=\"casuser\")"
   ]
  },
  {
   "cell_type": "code",
   "execution_count": 35,
   "metadata": {
    "collapsed": false
   },
   "outputs": [
    {
     "data": {
      "text/html": [
       "<div class=\"cas-results-key\"><b>&#167; CASLibInfo</b></div>\n",
       "<div class=\"cas-results-body\">\n",
       "<div>\n",
       "<table border=\"1\" class=\"dataframe\">\n",
       "  <thead>\n",
       "    <tr style=\"text-align: right;\">\n",
       "      <th title=\"\"></th>\n",
       "      <th title=\"Name\">Name</th>\n",
       "      <th title=\"Type\">Type</th>\n",
       "      <th title=\"Description\">Description</th>\n",
       "      <th title=\"Path\">Path</th>\n",
       "      <th title=\"Definition\">Definition</th>\n",
       "      <th title=\"Subdirs\">Subdirs</th>\n",
       "      <th title=\"Local\">Local</th>\n",
       "      <th title=\"Active\">Active</th>\n",
       "      <th title=\"Personal\">Personal</th>\n",
       "      <th title=\"Hidden\">Hidden</th>\n",
       "    </tr>\n",
       "  </thead>\n",
       "  <tbody>\n",
       "    <tr>\n",
       "      <th>0</th>\n",
       "      <td>CASUSER(sasdemo)</td>\n",
       "      <td>PATH</td>\n",
       "      <td>Personal File System Caslib</td>\n",
       "      <td>/home/sasdemo/casuser/</td>\n",
       "      <td></td>\n",
       "      <td>1.0</td>\n",
       "      <td>0.0</td>\n",
       "      <td>1.0</td>\n",
       "      <td>1.0</td>\n",
       "      <td>0.0</td>\n",
       "    </tr>\n",
       "    <tr>\n",
       "      <th>1</th>\n",
       "      <td>DemoData</td>\n",
       "      <td>PATH</td>\n",
       "      <td>DemoCenter Shared and writeable caslib, access...</td>\n",
       "      <td>/opt/sasinside/DemoData/</td>\n",
       "      <td></td>\n",
       "      <td>0.0</td>\n",
       "      <td>0.0</td>\n",
       "      <td>0.0</td>\n",
       "      <td>0.0</td>\n",
       "      <td>0.0</td>\n",
       "    </tr>\n",
       "    <tr>\n",
       "      <th>2</th>\n",
       "      <td>Formats</td>\n",
       "      <td>PATH</td>\n",
       "      <td>Stores user defined formats.</td>\n",
       "      <td>/opt/sas/viya/config/data/cas/default/formats/</td>\n",
       "      <td></td>\n",
       "      <td>1.0</td>\n",
       "      <td>0.0</td>\n",
       "      <td>0.0</td>\n",
       "      <td>0.0</td>\n",
       "      <td>0.0</td>\n",
       "    </tr>\n",
       "    <tr>\n",
       "      <th>3</th>\n",
       "      <td>Models</td>\n",
       "      <td>PATH</td>\n",
       "      <td>Stores models created by Visual Analytics for ...</td>\n",
       "      <td>/opt/sas/viya/config/data/cas/default/models/</td>\n",
       "      <td></td>\n",
       "      <td>0.0</td>\n",
       "      <td>0.0</td>\n",
       "      <td>0.0</td>\n",
       "      <td>0.0</td>\n",
       "      <td>0.0</td>\n",
       "    </tr>\n",
       "    <tr>\n",
       "      <th>4</th>\n",
       "      <td>Public</td>\n",
       "      <td>PATH</td>\n",
       "      <td>Shared and writeable caslib, accessible to all...</td>\n",
       "      <td>/opt/sas/viya/config/data/cas/default/public/</td>\n",
       "      <td></td>\n",
       "      <td>1.0</td>\n",
       "      <td>0.0</td>\n",
       "      <td>0.0</td>\n",
       "      <td>0.0</td>\n",
       "      <td>0.0</td>\n",
       "    </tr>\n",
       "    <tr>\n",
       "      <th>5</th>\n",
       "      <td>SystemData</td>\n",
       "      <td>PATH</td>\n",
       "      <td>Stores application generated data, used for ge...</td>\n",
       "      <td>/opt/sas/viya/config/data/cas/default/sysData/</td>\n",
       "      <td></td>\n",
       "      <td>0.0</td>\n",
       "      <td>0.0</td>\n",
       "      <td>0.0</td>\n",
       "      <td>0.0</td>\n",
       "      <td>0.0</td>\n",
       "    </tr>\n",
       "  </tbody>\n",
       "</table>\n",
       "</div>\n",
       "</div>\n",
       "<div class=\"cas-output-area\"></div>\n",
       "<p class=\"cas-results-performance\"><small><span class=\"cas-elapsed\">elapsed 0.00035s</span> &#183; <span class=\"cas-user\">user 0.001s</span> &#183; <span class=\"cas-memory\">mem 0.0694MB</span></small></p>"
      ],
      "text/plain": [
       "[CASLibInfo]\n",
       "\n",
       "                Name  Type                                        Description  \\\n",
       " 0  CASUSER(sasdemo)  PATH                        Personal File System Caslib   \n",
       " 1          DemoData  PATH  DemoCenter Shared and writeable caslib, access...   \n",
       " 2           Formats  PATH                       Stores user defined formats.   \n",
       " 3            Models  PATH  Stores models created by Visual Analytics for ...   \n",
       " 4            Public  PATH  Shared and writeable caslib, accessible to all...   \n",
       " 5        SystemData  PATH  Stores application generated data, used for ge...   \n",
       " \n",
       "                                              Path Definition  Subdirs  Local  \\\n",
       " 0                          /home/sasdemo/casuser/                 1.0    0.0   \n",
       " 1                        /opt/sasinside/DemoData/                 0.0    0.0   \n",
       " 2  /opt/sas/viya/config/data/cas/default/formats/                 1.0    0.0   \n",
       " 3   /opt/sas/viya/config/data/cas/default/models/                 0.0    0.0   \n",
       " 4   /opt/sas/viya/config/data/cas/default/public/                 1.0    0.0   \n",
       " 5  /opt/sas/viya/config/data/cas/default/sysData/                 0.0    0.0   \n",
       " \n",
       "    Active  Personal  Hidden  \n",
       " 0     1.0       1.0     0.0  \n",
       " 1     0.0       0.0     0.0  \n",
       " 2     0.0       0.0     0.0  \n",
       " 3     0.0       0.0     0.0  \n",
       " 4     0.0       0.0     0.0  \n",
       " 5     0.0       0.0     0.0  \n",
       "\n",
       "+ Elapsed: 0.00035s, user: 0.001s, mem: 0.0694mb"
      ]
     },
     "execution_count": 35,
     "metadata": {},
     "output_type": "execute_result"
    }
   ],
   "source": [
    "# list available caslibs\n",
    "sess.caslibinfo()"
   ]
  },
  {
   "cell_type": "code",
   "execution_count": 36,
   "metadata": {
    "collapsed": false
   },
   "outputs": [
    {
     "name": "stdout",
     "output_type": "stream",
     "text": [
      "NOTE: Added action set 'table'.\n"
     ]
    },
    {
     "data": {
      "text/html": [
       "<div class=\"cas-results-key\"><b>&#167; actionset</b></div>\n",
       "<div class=\"cas-results-body\">\n",
       "<div>table</div>\n",
       "</div>\n",
       "<div class=\"cas-output-area\"></div>\n",
       "<p class=\"cas-results-performance\"><small><span class=\"cas-elapsed\">elapsed 0.00118s</span> &#183; <span class=\"cas-user\">user 0.001s</span> &#183; <span class=\"cas-memory\">mem 0.0595MB</span></small></p>"
      ],
      "text/plain": [
       "[actionset]\n",
       "\n",
       " 'table'\n",
       "\n",
       "+ Elapsed: 0.00118s, user: 0.001s, mem: 0.0595mb"
      ]
     },
     "execution_count": 36,
     "metadata": {},
     "output_type": "execute_result"
    }
   ],
   "source": [
    "# Load necessary actionsets\n",
    "sess.loadactionset(actionset=\"table\")"
   ]
  },
  {
   "cell_type": "code",
   "execution_count": 46,
   "metadata": {
    "collapsed": false
   },
   "outputs": [
    {
     "data": {
      "text/html": [
       "<div>\n",
       "<table border=\"1\" class=\"dataframe\">\n",
       "  <thead>\n",
       "    <tr style=\"text-align: right;\">\n",
       "      <th></th>\n",
       "      <th>Create</th>\n",
       "      <th>StepCount</th>\n",
       "      <th>Month</th>\n",
       "      <th>Day</th>\n",
       "      <th>Hour</th>\n",
       "    </tr>\n",
       "  </thead>\n",
       "  <tbody>\n",
       "    <tr>\n",
       "      <th>0</th>\n",
       "      <td>2016-06-30 20:38:47-04:00</td>\n",
       "      <td>13</td>\n",
       "      <td>2016-06</td>\n",
       "      <td>30</td>\n",
       "      <td>20</td>\n",
       "    </tr>\n",
       "    <tr>\n",
       "      <th>1</th>\n",
       "      <td>2016-06-30 22:21:39-04:00</td>\n",
       "      <td>59</td>\n",
       "      <td>2016-06</td>\n",
       "      <td>30</td>\n",
       "      <td>22</td>\n",
       "    </tr>\n",
       "    <tr>\n",
       "      <th>2</th>\n",
       "      <td>2016-06-30 23:11:11-04:00</td>\n",
       "      <td>146</td>\n",
       "      <td>2016-06</td>\n",
       "      <td>30</td>\n",
       "      <td>23</td>\n",
       "    </tr>\n",
       "    <tr>\n",
       "      <th>3</th>\n",
       "      <td>2016-07-01 07:23:59-04:00</td>\n",
       "      <td>35</td>\n",
       "      <td>2016-07</td>\n",
       "      <td>01</td>\n",
       "      <td>07</td>\n",
       "    </tr>\n",
       "    <tr>\n",
       "      <th>4</th>\n",
       "      <td>2016-07-01 11:31:15-04:00</td>\n",
       "      <td>22</td>\n",
       "      <td>2016-07</td>\n",
       "      <td>01</td>\n",
       "      <td>11</td>\n",
       "    </tr>\n",
       "  </tbody>\n",
       "</table>\n",
       "</div>"
      ],
      "text/plain": [
       "                     Create  StepCount    Month Day Hour\n",
       "0 2016-06-30 20:38:47-04:00         13  2016-06  30   20\n",
       "1 2016-06-30 22:21:39-04:00         59  2016-06  30   22\n",
       "2 2016-06-30 23:11:11-04:00        146  2016-06  30   23\n",
       "3 2016-07-01 07:23:59-04:00         35  2016-07  01   07\n",
       "4 2016-07-01 11:31:15-04:00         22  2016-07  01   11"
      ]
     },
     "execution_count": 46,
     "metadata": {},
     "output_type": "execute_result"
    }
   ],
   "source": [
    "HR_df = xmltodf(\"HKQuantityTypeIdentifierHeartRate\",\"HeartRate\")\n",
    "SC_df = xmltodf(\"HKQuantityTypeIdentifierStepCount\",\"StepCount\")"
   ]
  },
  {
   "cell_type": "code",
   "execution_count": 50,
   "metadata": {
    "collapsed": false
   },
   "outputs": [
    {
     "name": "stdout",
     "output_type": "stream",
     "text": [
      "NOTE: Cloud Analytic Services made the uploaded file available as table HEARTRATE in caslib CASUSER(sasdemo).\n",
      "NOTE: The table HEARTRATE has been created in caslib CASUSER(sasdemo) from binary data uploaded to Cloud Analytic Services.\n",
      "NOTE: Cloud Analytic Services made the uploaded file available as table STEPCOUNT in caslib CASUSER(sasdemo).\n",
      "NOTE: The table STEPCOUNT has been created in caslib CASUSER(sasdemo) from binary data uploaded to Cloud Analytic Services.\n"
     ]
    }
   ],
   "source": [
    "def tbltoCAS(tbl_ld,casName):\n",
    "    if not sess.table.tableExists(table=casName).exists:\n",
    "        upRes = sess.upload(data=tbl_ld,casout=casName)\n",
    "        sess.promote(name=casName)\n",
    "        filehdl = upRes.casTable\n",
    "        return(filehdl)\n",
    "    \n",
    "hr_cas = tbltoCAS(HR_df,\"Heartrate\")\n",
    "sc_cas = tbltoCAS(SC_df,\"Stepcount\")"
   ]
  },
  {
   "cell_type": "code",
   "execution_count": 51,
   "metadata": {
    "collapsed": false
   },
   "outputs": [
    {
     "data": {
      "text/html": [
       "<div class=\"cas-results-key\"><b>&#167; TableInfo</b></div>\n",
       "<div class=\"cas-results-body\">\n",
       "<div>\n",
       "<table border=\"1\" class=\"dataframe\">\n",
       "  <thead>\n",
       "    <tr style=\"text-align: right;\">\n",
       "      <th title=\"\"></th>\n",
       "      <th title=\"Name\">Name</th>\n",
       "      <th title=\"Rows\">Rows</th>\n",
       "      <th title=\"Columns\">Columns</th>\n",
       "      <th title=\"Encoding\">Encoding</th>\n",
       "      <th title=\"Created\">CreateTimeFormatted</th>\n",
       "      <th title=\"Last Modified\">ModTimeFormatted</th>\n",
       "      <th title=\"Character Set\">JavaCharSet</th>\n",
       "      <th title=\"CreateTime\">CreateTime</th>\n",
       "      <th title=\"ModTime\">ModTime</th>\n",
       "      <th title=\"Global\">Global</th>\n",
       "      <th title=\"Repeated\">Repeated</th>\n",
       "      <th title=\"View\">View</th>\n",
       "      <th title=\"Loaded Source\">SourceName</th>\n",
       "      <th title=\"Source Caslib\">SourceCaslib</th>\n",
       "      <th title=\"Compressed\">Compressed</th>\n",
       "      <th title=\"Table Creator\">Creator</th>\n",
       "      <th title=\"Last Table Modifier\">Modifier</th>\n",
       "    </tr>\n",
       "  </thead>\n",
       "  <tbody>\n",
       "    <tr>\n",
       "      <th>0</th>\n",
       "      <td>APPLEHEARTRATE</td>\n",
       "      <td>43219</td>\n",
       "      <td>5</td>\n",
       "      <td>utf-8</td>\n",
       "      <td>09Jun2017:13:31:36</td>\n",
       "      <td>09Jun2017:13:31:36</td>\n",
       "      <td>UTF8</td>\n",
       "      <td>1.812634e+09</td>\n",
       "      <td>1.812634e+09</td>\n",
       "      <td>1</td>\n",
       "      <td>0</td>\n",
       "      <td>0</td>\n",
       "      <td></td>\n",
       "      <td></td>\n",
       "      <td>0</td>\n",
       "      <td>sasdemo</td>\n",
       "      <td></td>\n",
       "    </tr>\n",
       "    <tr>\n",
       "      <th>1</th>\n",
       "      <td>HEARTRATE</td>\n",
       "      <td>43219</td>\n",
       "      <td>5</td>\n",
       "      <td>utf-8</td>\n",
       "      <td>09Jun2017:14:04:00</td>\n",
       "      <td>09Jun2017:14:04:00</td>\n",
       "      <td>UTF8</td>\n",
       "      <td>1.812636e+09</td>\n",
       "      <td>1.812636e+09</td>\n",
       "      <td>1</td>\n",
       "      <td>0</td>\n",
       "      <td>0</td>\n",
       "      <td></td>\n",
       "      <td></td>\n",
       "      <td>0</td>\n",
       "      <td>sasdemo</td>\n",
       "      <td></td>\n",
       "    </tr>\n",
       "    <tr>\n",
       "      <th>2</th>\n",
       "      <td>STEPCOUNT</td>\n",
       "      <td>21066</td>\n",
       "      <td>5</td>\n",
       "      <td>utf-8</td>\n",
       "      <td>09Jun2017:14:04:01</td>\n",
       "      <td>09Jun2017:14:04:01</td>\n",
       "      <td>UTF8</td>\n",
       "      <td>1.812636e+09</td>\n",
       "      <td>1.812636e+09</td>\n",
       "      <td>1</td>\n",
       "      <td>0</td>\n",
       "      <td>0</td>\n",
       "      <td></td>\n",
       "      <td></td>\n",
       "      <td>0</td>\n",
       "      <td>sasdemo</td>\n",
       "      <td></td>\n",
       "    </tr>\n",
       "  </tbody>\n",
       "</table>\n",
       "</div>\n",
       "</div>\n",
       "<div class=\"cas-output-area\"></div>\n",
       "<p class=\"cas-results-performance\"><small><span class=\"cas-elapsed\">elapsed 0.000874s</span> &#183; <span class=\"cas-memory\">mem 0.0675MB</span></small></p>"
      ],
      "text/plain": [
       "[TableInfo]\n",
       "\n",
       "              Name   Rows  Columns Encoding CreateTimeFormatted  \\\n",
       " 0  APPLEHEARTRATE  43219        5    utf-8  09Jun2017:13:31:36   \n",
       " 1       HEARTRATE  43219        5    utf-8  09Jun2017:14:04:00   \n",
       " 2       STEPCOUNT  21066        5    utf-8  09Jun2017:14:04:01   \n",
       " \n",
       "      ModTimeFormatted JavaCharSet    CreateTime       ModTime  Global  \\\n",
       " 0  09Jun2017:13:31:36        UTF8  1.812634e+09  1.812634e+09       1   \n",
       " 1  09Jun2017:14:04:00        UTF8  1.812636e+09  1.812636e+09       1   \n",
       " 2  09Jun2017:14:04:01        UTF8  1.812636e+09  1.812636e+09       1   \n",
       " \n",
       "    Repeated  View SourceName SourceCaslib  Compressed  Creator Modifier  \n",
       " 0         0     0                                   0  sasdemo           \n",
       " 1         0     0                                   0  sasdemo           \n",
       " 2         0     0                                   0  sasdemo           \n",
       "\n",
       "+ Elapsed: 0.000874s, mem: 0.0675mb"
      ]
     },
     "execution_count": 51,
     "metadata": {},
     "output_type": "execute_result"
    }
   ],
   "source": [
    "sess.table.tableinfo()"
   ]
  },
  {
   "cell_type": "markdown",
   "metadata": {},
   "source": [
    "## Now the table is in a public space in CAS, it is availble in VA"
   ]
  },
  {
   "cell_type": "code",
   "execution_count": null,
   "metadata": {
    "collapsed": true
   },
   "outputs": [],
   "source": []
  }
 ],
 "metadata": {
  "anaconda-cloud": {},
  "kernelspec": {
   "display_name": "Python [conda env:Python3.5]",
   "language": "python",
   "name": "conda-env-Python3.5-py"
  },
  "language_info": {
   "codemirror_mode": {
    "name": "ipython",
    "version": 3
   },
   "file_extension": ".py",
   "mimetype": "text/x-python",
   "name": "python",
   "nbconvert_exporter": "python",
   "pygments_lexer": "ipython3",
   "version": "3.5.2"
  }
 },
 "nbformat": 4,
 "nbformat_minor": 2
}
